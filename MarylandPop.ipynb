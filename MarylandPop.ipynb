{
 "cells": [
  {
   "cell_type": "code",
   "execution_count": 9,
   "metadata": {
    "collapsed": false,
    "scrolled": false
   },
   "outputs": [],
   "source": [
    "#Imports \n",
    "#-----------------------------\n",
    "# bring in the csv's to work with using pandas dataframe \n",
    "#-----------------------------\n",
    "\n",
    "\n",
    "# pandas info http://pandas.pydata.org/\n",
    "\n",
    "\n",
    "import numpy as np\n",
    "import pandas as pd\n",
    "import csv\n",
    "\n",
    "keys= pd.read_csv(\"adjData/popData.csv\")\n",
    "adjList= pd.read_csv(\"adjData/nlist.csv\")\n",
    "isin=pd.read_csv(\"adjData/isin.csv\")\n",
    "extend=pd.read_csv(\"adjData/MDextend.csv\")\n",
    "keyList= keys[['GEOID']]\n",
    "# two step join to get only maryland-maryland census tracts \n",
    "step= pd.merge(adjList,keyList,how='inner',left_on='NEIGHBOR_TRACTID',right_on='GEOID')\n",
    "adjSet= pd.merge(step,keyList,how='inner',left_on='SOURCE_TRACTID',right_on='GEOID')\n",
    "keys=pd.merge(keys,isin,how='inner',left_on='GEOID',right_on='GEOID')\n",
    "keys=pd.merge(keys,extend,how='inner',left_on='GEOID',right_on='GEOID')\n",
    "\n",
    "keys['FamilyProportion'] = keys['FamilyProportion'].convert_objects(convert_numeric=True)\n",
    "keys['BlackPercentage'] = keys['BlackPercentage'].convert_objects(convert_numeric=True)"
   ]
  },
  {
   "cell_type": "code",
   "execution_count": 10,
   "metadata": {
    "collapsed": false,
    "scrolled": false
   },
   "outputs": [],
   "source": [
    "#PRECOMPUTE NEIGHBORS\n",
    "#-----------------------------\n",
    "# precompute number of neighbors so we do not leave any adjacent districts this is to make our lives way easier later \n",
    "#-----------------------------\n",
    "\n",
    "# checked maryland values for no zero values so we can look for orphans right after they are created \n",
    "\n",
    "partners={}\n",
    "for i in range(1,keyList.shape[0]):#\n",
    "    key = keyList.iloc[i]['GEOID']\n",
    "    value = adjSet[adjSet.SOURCE_TRACTID == key] # adjacent tracts for census tracts key in NEIGHBOR_TRACTID col \n",
    "    partners[key] = value.shape[0] \n",
    "   "
   ]
  },
  {
   "cell_type": "code",
   "execution_count": 11,
   "metadata": {
    "collapsed": false,
    "scrolled": true
   },
   "outputs": [],
   "source": [
    "# choose a starting discrict and start working \n",
    "# for test purposes we are going to make 1 district 24029950100\n",
    "# could we precomput the number of districts that are adjcant to a disctric and each time they are added subract one -- much faster and\n",
    "# we can search easily \n",
    "\n",
    "#globals\n",
    "#feasibility constraint so we can make manual changes \n",
    "oeps = np.int64(30000)\n",
    "eps = np.int64(30000)\n",
    "targetPop=np.int64(721694)-eps #721694\n",
    "#function defs\n",
    "def findDistrict(adjacent , tracts, pop, det,params ):\n",
    "    #Check to see if we are done \n",
    "    \n",
    "    if (pop+det >= targetPop).all():\n",
    "        print (params)\n",
    "        return tracts\n",
    "    # choose next district based on selection method\n",
    "    \n",
    "    # get adjacent with most edge \n",
    "    v=list(adjacent.values())\n",
    "    k=list(adjacent.keys())\n",
    "    # index of tract with most neighbors\n",
    "    toAdd =k[v.index(max(v))]\n",
    "    \n",
    "    \n",
    "    # once selection is made addtract will handle all of the set updates \n",
    "    adjacent,tracts,pop,params = addTract(adjSetl=adjacent,tract=toAdd,dist=tracts,pop=pop,params=params)\n",
    "    # recursice call\n",
    "    if  (len ( adjacent ) == 0 ):\n",
    "        print('error!!')\n",
    "        print (params)\n",
    "        return tracts \n",
    "    #print (tracts)\n",
    "    return findDistrict(adjacent,tracts,pop,det,params)\n",
    "\n",
    "def addTract (adjSetl,tract,dist,pop,params):\n",
    "   \n",
    "    # we need to get the index of a given tract  \n",
    "    index=(keys[keys.GEOID == tract])[['index']].iloc[0]\n",
    "    if (keys.iloc[index]['IsIn'].any() == 0 ):\n",
    "        #add tract to the district \n",
    "        dist.append(tract)\n",
    "        #remove dist from adjset \n",
    "        adjSetl[tract] =-1\n",
    "        keys.set_value(index, 13 , 1,takeable=True)\n",
    "        #update params \n",
    "        params=updateParams(tract,params)\n",
    "        # update pop\n",
    "        pop=pop+(keys[keys.GEOID == tract])[['POP100']].iloc[0]  \n",
    "        #update adj set for new adjacent \n",
    "        adjSetl=updateAdjSet(localAdjSet=adjSetl,index=tract)\n",
    "        # deal with oprhaned districts \n",
    "        orphans=isOrphan(tract=tract)\n",
    "        if (orphans != []):\n",
    "            #deal with new oprhans we are going to create by adding this new tract \n",
    "            #being lazy / greedy and i am just going to add them this might get ~ weird \n",
    "            for val in orphans:\n",
    "                #addTract(adjSetl=adjSetl,tract=val,dist=dist,pop=pop)\n",
    "                afaf=val\n",
    "    else: \n",
    "        #print ('trying to add already added')\n",
    "        v=list(adjSetl.values())\n",
    "        k=list(adjSetl.keys())\n",
    "        toDel =k[v.index(max(v))]\n",
    "        del adjSetl[toDel]\n",
    "        \n",
    "    return (adjSetl,dist,pop,params)\n",
    "\n",
    "def isOrphan (tract):\n",
    "    global partners \n",
    "    orphans=[]\n",
    "    toRemove = adjSet[adjSet.SOURCE_TRACTID == tract] # adjacent tracts for census tracts key in NEIGHBOR_TRACTID col \n",
    "    for i in range(1,toRemove.shape[0]):\n",
    "        key = toRemove.iloc[i]['NEIGHBOR_TRACTID']\n",
    "        value=partners[key]\n",
    "        if (value == 1): \n",
    "            orphans.append(key)\n",
    "        partners[key]=value-1\n",
    "    return orphans\n",
    "\n",
    "def updateAdjSet(localAdjSet,index):\n",
    "    toAdd = adjSet[adjSet.SOURCE_TRACTID == index] # adjacent tracts for census tracts key in NEIGHBOR_TRACTID col \n",
    "    for i in range(0,toAdd.shape[0]):#\n",
    "        key = toAdd.iloc[i]['NEIGHBOR_TRACTID']   \n",
    "        if  key in localAdjSet:\n",
    "            if (localAdjSet[key]==-1):\n",
    "                # do nothing this value is alredy been added to the district \n",
    "                b=1\n",
    "            else:\n",
    "                localAdjSet[key]=localAdjSet[key]+1\n",
    "        else:\n",
    "            localAdjSet[key]=1       \n",
    "    return localAdjSet\n",
    "\n",
    "def updateParams(toAdd,params):\n",
    "    age   = keys[keys.GEOID == toAdd]['Medianage']\n",
    "    house = keys[keys.GEOID == toAdd]['FamilyProportion']\n",
    "    race  = keys[keys.GEOID == toAdd]['BlackPercentage']\n",
    "    #when were here we might as well update the params since they will only be used here\n",
    "    # update the averages \n",
    "    x1barold=params[0]\n",
    "    x2barold=params[2]\n",
    "    x3barold=params[4]\n",
    "    params[0]=(params[0]*params[6]+age.iloc[0])/(params[6]+1)\n",
    "    params[2]=(params[2]*params[6]+house.iloc[0])/(params[6]+1)\n",
    "    params[4]=(params[4]*params[6]+race.iloc[0])/(params[6]+1)\n",
    "    params[6]=params[6]+1\n",
    "    if  params[6] == 1:\n",
    "        params[1]=.10\n",
    "        params[3]=.10\n",
    "        params[5]=.10\n",
    "        print('started')\n",
    "    else:\n",
    "        n=params[6]\n",
    "        #update the std devs \n",
    "        # linkerino for the matherino http://bit.ly/1YI3W4R\n",
    "        params[1]=pow(abs(((n-2)*pow(params[1],2)+(age.iloc[0]-params[0])*(age.iloc[0]-x1barold))/(n-1)),.5)\n",
    "        params[3]=pow(abs(((n-2)*pow(params[3],2)+(house.iloc[0]-params[3])*(house.iloc[0]-x2barold))/(n-1)),.5)\n",
    "        params[5]=pow(abs(((n-2)*pow(params[3],2)+(race.iloc[0]-params[3])*(race.iloc[0]-x3barold))/(n-1)),.5)\n",
    "    return params\n",
    "    "
   ]
  },
  {
   "cell_type": "code",
   "execution_count": 12,
   "metadata": {
    "collapsed": false
   },
   "outputs": [
    {
     "name": "stdout",
     "output_type": "stream",
     "text": [
      "started\n",
      "[40.744970414201198, 4.8275364816086368, 0.71253371682840227, 0.19001008497023658, 0.072414463029585818, 0.18959253165770407, 169]\n"
     ]
    }
   ],
   "source": [
    "#5\n",
    "# this is going to be kind of gross \n",
    "#\n",
    "\n",
    "startTractId5=24023000100\n",
    "#24001000100\n",
    "e={}\n",
    "p=updateParams(24023000100,[0,0,0,0,0,0,0])\n",
    "fith= [startTractId5]\n",
    "fithStartPop=(keys[keys.GEOID == startTractId5])[['POP100']].iloc[0]\n",
    "locAdjSet5=updateAdjSet(localAdjSet=e,index=startTractId5)\n",
    "#print (locAdjSet5)\n",
    "fith=findDistrict(adjacent=locAdjSet5,tracts=fith,pop=fithStartPop,det=0,params=p)\n",
    "\n"
   ]
  },
  {
   "cell_type": "code",
   "execution_count": null,
   "metadata": {
    "collapsed": false
   },
   "outputs": [],
   "source": []
  },
  {
   "cell_type": "code",
   "execution_count": 13,
   "metadata": {
    "collapsed": false
   },
   "outputs": [
    {
     "name": "stdout",
     "output_type": "stream",
     "text": [
      "started\n",
      "[41.209580838323383, 7.0672009552097315, 0.70719825676646664, 0.16395727384654968, 0.19634572969461067, 0.16457514222716671, 167]\n",
      "started\n",
      "[39.692810457516373, 5.7687235723881569, 0.70813484554248374, 0.13703350490830002, 0.11950487307843143, 0.13680616928421235, 153]\n",
      "started\n",
      "[36.715340909090905, 4.8667786820708985, 0.68785587968750039, 0.15110749008561875, 0.70604473876136387, 0.15081691510289094, 176]\n",
      "started\n",
      "[38.120645161290312, 7.032611389639519, 0.67150426316129042, 0.026835840638335259, 0.25486701943225809, 0.051990806910539034, 155]\n",
      "started\n",
      "[36.864238410596016, 5.6886711321228702, 0.66333109072185437, 0.17998403018219533, 0.34053895658940403, 0.17928719105018698, 151]\n",
      "started\n",
      "[36.654460093896709, 5.9766243796974834, 0.56643059700938958, 0.17006158731703219, 0.55333100671361446, 0.17081567589851879, 213]\n",
      "started\n",
      "[40.890184049079721, 6.1172516091679103, 0.70936150608588933, 0.094559525071735789, 0.1117691827730061, 0.094329034239621301, 163]\n"
     ]
    }
   ],
   "source": [
    "a={};\n",
    "#get the first District \n",
    "\n",
    "startTractId1 = 24047980000\n",
    "p=updateParams(24023000100,[0,0,0,0,0,0,0])\n",
    "first= [startTractId1]\n",
    "firstStartPop=(keys[keys.GEOID == startTractId1])[['POP100']].iloc[0]\n",
    "locAdjSet1=updateAdjSet(localAdjSet=a,index=startTractId1)\n",
    "first= findDistrict(adjacent=locAdjSet1,tracts=first,pop=firstStartPop,det=0,params=p)\n",
    "\n",
    "# now the second \n",
    "foo={}\n",
    "startTractId2 = 24031706008\n",
    "p=updateParams(24023000100,[0,0,0,0,0,0,0])\n",
    "second= [startTractId2]\n",
    "secondStartPop=(keys[keys.GEOID == startTractId2])[['POP100']].iloc[0]\n",
    "locAdjSet2=updateAdjSet(localAdjSet=foo,index=startTractId2)\n",
    "second = findDistrict(adjacent=locAdjSet2,tracts=second,pop=secondStartPop,det=0,params=p)\n",
    "\n",
    "# 3 \n",
    "c={}\n",
    "startTractId3 = 24033802501\n",
    "p=updateParams(24023000100,[0,0,0,0,0,0,0])\n",
    "third= [startTractId3]\n",
    "thirdStartPop=(keys[keys.GEOID == startTractId3])[['POP100']].iloc[0]\n",
    "locAdjSet3=updateAdjSet(localAdjSet=c,index=startTractId3)\n",
    "thrid = findDistrict(adjacent=locAdjSet3,tracts=third,pop=thirdStartPop,det=0,params=p)\n",
    "\n",
    "# 4\n",
    "startTractId4=24003702500\n",
    "d={}\n",
    "p=updateParams(24023000100,[0,0,0,0,0,0,0])\n",
    "fourth= [startTractId4]\n",
    "fourthStartPop=(keys[keys.GEOID == startTractId4])[['POP100']].iloc[0]\n",
    "locAdjSet4=updateAdjSet(localAdjSet=d,index=startTractId4)\n",
    "fourth = findDistrict(adjacent=locAdjSet4,tracts=fourth,pop=fourthStartPop,det=0,params=p)\n",
    "\n",
    "#6 \n",
    "startTractId6=24031702800\n",
    "f={}\n",
    "p=updateParams(24023000100,[0,0,0,0,0,0,0])\n",
    "sixth= [startTractId6]\n",
    "sixthStartPop=(keys[keys.GEOID == startTractId6])[['POP100']].iloc[0]\n",
    "locAdjSet6=updateAdjSet(localAdjSet=f,index=startTractId6)\n",
    "sixth= findDistrict(adjacent=locAdjSet6,tracts=sixth,pop=sixthStartPop,det=0,params=p)\n",
    "#7\n",
    "startTractId7=24510200200\n",
    "g={}\n",
    "p=updateParams(24023000100,[0,0,0,0,0,0,0])\n",
    "sev= [startTractId7]\n",
    "sevStartPop=(keys[keys.GEOID == startTractId7])[['POP100']].iloc[0]\n",
    "locAdjSet7=updateAdjSet(localAdjSet=g,index=startTractId7)\n",
    "sev = findDistrict(adjacent=locAdjSet7,tracts=sev,pop=fithStartPop,det=0,params=p)\n",
    "\n",
    "#8\n",
    "startTractId8=24005408100\n",
    "h={}\n",
    "p=updateParams(24023000100,[0,0,0,0,0,0,0])\n",
    "eight= [startTractId8]\n",
    "eightStartPop=(keys[keys.GEOID == startTractId8])[['POP100']].iloc[0]\n",
    "locAdjSet8=updateAdjSet(localAdjSet=h,index=startTractId8)\n",
    "eight= findDistrict(adjacent=locAdjSet8,tracts=eight,pop=eightStartPop,det=0,params=p) \n",
    "\n",
    "\n",
    "\n"
   ]
  },
  {
   "cell_type": "markdown",
   "metadata": {},
   "source": []
  },
  {
   "cell_type": "code",
   "execution_count": null,
   "metadata": {
    "collapsed": false
   },
   "outputs": [],
   "source": []
  },
  {
   "cell_type": "code",
   "execution_count": 14,
   "metadata": {
    "collapsed": false,
    "scrolled": false
   },
   "outputs": [
    {
     "name": "stdout",
     "output_type": "stream",
     "text": [
      "donezo\n"
     ]
    }
   ],
   "source": [
    "#begin the recursive fixing \n",
    "#pd.set_option('display.max_rows', 1000)\n",
    "import math as math\n",
    "# now we have the subset for which to work with \n",
    "lo=keys[keys.IsIn == 0 ].GEOID  \n",
    "\n",
    "def fix (tracts,toWrite):\n",
    "    returnFlag=0;\n",
    "    for row in tracts:\n",
    "        toCheck=adjSet[adjSet.SOURCE_TRACTID == row].NEIGHBOR_TRACTID\n",
    "        adjVal=0\n",
    "        n=toCheck.shape\n",
    "        scalar=n[0];\n",
    "        adjacent={}\n",
    "        for elm in toCheck:\n",
    "            if elm in first:\n",
    "                key=1\n",
    "            elif elm in second:\n",
    "                key=2\n",
    "            elif elm in thrid:\n",
    "                key=3\n",
    "            elif elm in fourth:\n",
    "                key=4\n",
    "            elif elm in fith:\n",
    "                key=5\n",
    "            elif elm in fourth:\n",
    "                key=6\n",
    "            elif elm in sev:\n",
    "                key=7\n",
    "            elif elm in eight:\n",
    "                key=8\n",
    "            # deal with the dictionary values\n",
    "            elif elm in toWrite:\n",
    "                key=toWrite[elm] \n",
    "            else:\n",
    "                key=-1\n",
    "            \n",
    "            if  key in adjacent and key != -1:\n",
    "                adjacent[key]=adjacent[key]+1\n",
    "            elif key != -1:\n",
    "                adjacent[key]=1     \n",
    "        #compute the value and update \n",
    "        # get adjacent with most edge \n",
    "    \n",
    "        v=list(adjacent.values())\n",
    "        k=list(adjacent.keys())\n",
    "        if v == []:\n",
    "            writeme=0\n",
    "        # index of tract with most neighbors\n",
    "        else:\n",
    "            writeme =k[v.index(max(v))]\n",
    "        # now we have the district to put our tract in \n",
    "        if (writeme != 0 ):\n",
    "            toWrite[row]=writeme\n",
    "            # set the tracts to is in in keys. \n",
    "            toUpdate=keys[keys.GEOID == row].index\n",
    "            keys.set_value(toUpdate[0], 13 , 1,takeable=True)\n",
    "        else:\n",
    "            print('island found')\n",
    "            returnFlag=1;\n",
    "    #end of loop ----\n",
    "    toWrite[24023000100]=5\n",
    "    toWrite[24023000200]=5\n",
    "    return toWrite\n",
    "    #fix(lo,toWrite)\n",
    "# end of function \n",
    "\n",
    "\n",
    "toWrite ={}\n",
    "fix(lo,toWrite)\n",
    "print('donezo')"
   ]
  },
  {
   "cell_type": "code",
   "execution_count": 15,
   "metadata": {
    "collapsed": false,
    "scrolled": true
   },
   "outputs": [
    {
     "ename": "PermissionError",
     "evalue": "[Errno 13] Permission denied: 'first.csv'",
     "output_type": "error",
     "traceback": [
      "\u001b[1;31m---------------------------------------------------------------------------\u001b[0m",
      "\u001b[1;31mPermissionError\u001b[0m                           Traceback (most recent call last)",
      "\u001b[1;32m<ipython-input-15-f0e3acd18d2d>\u001b[0m in \u001b[0;36m<module>\u001b[1;34m()\u001b[0m\n\u001b[0;32m      1\u001b[0m \u001b[1;31m#generate the CSV File for raw output\u001b[0m\u001b[1;33m\u001b[0m\u001b[1;33m\u001b[0m\u001b[0m\n\u001b[1;32m----> 2\u001b[1;33m \u001b[0mf\u001b[0m \u001b[1;33m=\u001b[0m \u001b[0mopen\u001b[0m\u001b[1;33m(\u001b[0m\u001b[1;34m\"first.csv\"\u001b[0m\u001b[1;33m,\u001b[0m\u001b[1;34m'w'\u001b[0m\u001b[1;33m)\u001b[0m\u001b[1;33m\u001b[0m\u001b[0m\n\u001b[0m\u001b[0;32m      3\u001b[0m \u001b[0mf\u001b[0m\u001b[1;33m.\u001b[0m\u001b[0mwrite\u001b[0m\u001b[1;33m(\u001b[0m\u001b[1;34m'GEOID'\u001b[0m \u001b[1;33m+\u001b[0m\u001b[1;34m','\u001b[0m\u001b[1;33m+\u001b[0m\u001b[1;34m'color'\u001b[0m \u001b[1;33m+\u001b[0m \u001b[1;34m'\\n'\u001b[0m \u001b[1;33m)\u001b[0m\u001b[1;33m\u001b[0m\u001b[0m\n\u001b[0;32m      4\u001b[0m \u001b[1;32mfor\u001b[0m \u001b[0mrow\u001b[0m \u001b[1;32min\u001b[0m \u001b[0mfirst\u001b[0m\u001b[1;33m:\u001b[0m\u001b[1;33m\u001b[0m\u001b[0m\n\u001b[0;32m      5\u001b[0m     \u001b[0mf\u001b[0m\u001b[1;33m.\u001b[0m\u001b[0mwrite\u001b[0m\u001b[1;33m(\u001b[0m \u001b[0mstr\u001b[0m\u001b[1;33m(\u001b[0m\u001b[0mrow\u001b[0m\u001b[1;33m)\u001b[0m \u001b[1;33m+\u001b[0m\u001b[1;34m','\u001b[0m\u001b[1;33m+\u001b[0m\u001b[1;34m'1'\u001b[0m \u001b[1;33m+\u001b[0m \u001b[1;34m'\\n'\u001b[0m \u001b[1;33m)\u001b[0m\u001b[1;33m\u001b[0m\u001b[0m\n",
      "\u001b[1;31mPermissionError\u001b[0m: [Errno 13] Permission denied: 'first.csv'"
     ]
    }
   ],
   "source": [
    "#generate the CSV File for raw output \n",
    "f = open(\"first.csv\",'w')\n",
    "f.write('GEOID' +','+'color' + '\\n' )\n",
    "for row in first:\n",
    "    f.write( str(row) +','+'1' + '\\n' )\n",
    "for row in second:\n",
    "    f.write( str(row) +','+'2' + '\\n' )\n",
    "for row in thrid:\n",
    "    f.write( str(row) +','+'3' + '\\n' )\n",
    "for row in fourth:\n",
    "    f.write( str(row) +','+'4' + '\\n' )\n",
    "for row in fith:\n",
    "    f.write( str(row) +','+'5' + '\\n' )\n",
    "for row in sixth:\n",
    "    f.write( str(row) +','+'6' + '\\n' )\n",
    "for row in sev:\n",
    "    f.write( str(row) +','+'7' + '\\n' )\n",
    "for row in eight:\n",
    "    f.write( str(row) +','+'8' + '\\n' )\n",
    "f.close()\n"
   ]
  },
  {
   "cell_type": "code",
   "execution_count": null,
   "metadata": {
    "collapsed": false
   },
   "outputs": [],
   "source": [
    "#generate the CSV File for filtered output \n",
    "f = open(\"second.csv\",'w')\n",
    "f.write('GEOID' +','+'color' + '\\n' )\n",
    "for row in first:\n",
    "    f.write( str(row) +','+'1' + '\\n' )\n",
    "for row in second:\n",
    "    f.write( str(row) +','+'2' + '\\n' )\n",
    "for row in thrid:\n",
    "    f.write( str(row) +','+'3' + '\\n' )\n",
    "for row in fourth:\n",
    "    f.write( str(row) +','+'4' + '\\n' )\n",
    "for row in fith:\n",
    "    f.write( str(row) +','+'5' + '\\n' )\n",
    "for row in sixth:\n",
    "    f.write( str(row) +','+'6' + '\\n' )\n",
    "for row in sev:\n",
    "    f.write( str(row) +','+'7' + '\\n' )\n",
    "for row in eight:\n",
    "    f.write( str(row) +','+'8' + '\\n' )\n",
    "for key in toWrite.keys():\n",
    "     f.write( str(key) +','+ str(toWrite[key]) + '\\n' )\n",
    "f.close()"
   ]
  },
  {
   "cell_type": "code",
   "execution_count": null,
   "metadata": {
    "collapsed": false
   },
   "outputs": [],
   "source": [
    "a=1\n",
    "a =a-1\n",
    "print(a)"
   ]
  },
  {
   "cell_type": "code",
   "execution_count": null,
   "metadata": {
    "collapsed": false
   },
   "outputs": [],
   "source": [
    "print(keys)"
   ]
  },
  {
   "cell_type": "code",
   "execution_count": null,
   "metadata": {
    "collapsed": false
   },
   "outputs": [],
   "source": [
    "adjList= pd.read_csv(\"adjData/first.csv\")\n",
    "vals=pd.merge(keys,isin,how='inner',left_on='GEOID',right_on='GEOID')"
   ]
  },
  {
   "cell_type": "code",
   "execution_count": null,
   "metadata": {
    "collapsed": false
   },
   "outputs": [],
   "source": []
  },
  {
   "cell_type": "code",
   "execution_count": null,
   "metadata": {
    "collapsed": true
   },
   "outputs": [],
   "source": []
  }
 ],
 "metadata": {
  "kernelspec": {
   "display_name": "Python 3",
   "language": "python",
   "name": "python3"
  },
  "language_info": {
   "codemirror_mode": {
    "name": "ipython",
    "version": 3
   },
   "file_extension": ".py",
   "mimetype": "text/x-python",
   "name": "python",
   "nbconvert_exporter": "python",
   "pygments_lexer": "ipython3",
   "version": "3.4.3"
  }
 },
 "nbformat": 4,
 "nbformat_minor": 0
}
