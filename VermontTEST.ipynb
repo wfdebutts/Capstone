{
 "cells": [
  {
   "cell_type": "code",
   "execution_count": null,
   "metadata": {
    "collapsed": false,
    "scrolled": false
   },
   "outputs": [],
   "source": [
    "#Imports \n",
    "#-----------------------------\n",
    "# bring in the csv's to work with using pandas dataframe \n",
    "#-----------------------------\n",
    "\n",
    "\n",
    "# pandas info http://pandas.pydata.org/\n",
    "\n",
    "\n",
    "import numpy as np\n",
    "import pandas as pd\n",
    "import csv\n",
    "\n",
    "keys= pd.read_csv(\"adjData/popData2.csv\")\n",
    "adjList= pd.read_csv(\"adjData/nlist.csv\")\n",
    "isin=pd.read_csv(\"adjData/isin2.csv\")\n",
    "\n",
    "keyList= keys[['GEOID']]\n",
    "# two step join to get only maryland-maryland census tracts \n",
    "step= pd.merge(adjList,keyList,how='inner',left_on='NEIGHBOR_TRACTID',right_on='GEOID')\n",
    "adjSet= pd.merge(step,keyList,how='inner',left_on='SOURCE_TRACTID',right_on='GEOID')\n",
    "keys=pd.merge(keys,isin,how='inner',left_on='GEOID',right_on='GEOID')"
   ]
  },
  {
   "cell_type": "code",
   "execution_count": null,
   "metadata": {
    "collapsed": false,
    "scrolled": false
   },
   "outputs": [],
   "source": [
    "#PRECOMPUTE NEIGHBORS\n",
    "#-----------------------------\n",
    "# precompute number of neighbors so we do not leave any adjacent districts this is to make our lives way easier later \n",
    "#-----------------------------\n",
    "\n",
    "# checked maryland values for no zero values so we can look for orphans right after they are created \n",
    "\n",
    "partners={}\n",
    "for i in range(1,keyList.shape[0]):#\n",
    "    key = keyList.iloc[i]['GEOID']\n",
    "    value = adjSet[adjSet.SOURCE_TRACTID == key] # adjacent tracts for census tracts key in NEIGHBOR_TRACTID col \n",
    "    partners[key] = value.shape[0] \n",
    "   "
   ]
  },
  {
   "cell_type": "code",
   "execution_count": null,
   "metadata": {
    "collapsed": false,
    "scrolled": true
   },
   "outputs": [],
   "source": [
    "# choose a starting discrict and start working \n",
    "# for test purposes we are going to make 1 district 24029950100\n",
    "# could we precomput the number of districts that are adjcant to a disctric and each time they are added subract one -- much faster and\n",
    "# we can search easily \n",
    "\n",
    "#globals\n",
    "#feasibility constraint so we can make manual changes \n",
    "targetPop=np.int64(625740)#625741)\n",
    "#function defs\n",
    "def findDistrict(adjacent , tracts, pop, det ):\n",
    "    #Check to see if we are done \n",
    "    \n",
    "    if (pop+det >= targetPop).all():\n",
    "        return tracts\n",
    "    # choose next district based on selection method\n",
    "    \n",
    "    # get adjacent with most edge \n",
    "    v=list(adjacent.values())\n",
    "    k=list(adjacent.keys())\n",
    "    # index of tract with most neighbors\n",
    "    toAdd =k[v.index(max(v))]\n",
    "    \n",
    "    #print(toAdd)\n",
    "    # once selection is made addtract will handle all of the set updates \n",
    "    adjacent,tracts,pop = addTract(adjSetl=adjacent,tract=toAdd,dist=tracts,pop=pop)\n",
    "    #print(tracts)\n",
    "    # recursice call\n",
    "    if  (len ( adjacent ) == 0 ):\n",
    "        print('error!!')    \n",
    "        return (tracts,pop) \n",
    "    #print (tracts)\n",
    "    return findDistrict(adjacent,tracts,pop,det)\n",
    "\n",
    "def addTract (adjSetl,tract,dist,pop):\n",
    "   \n",
    "    # we need to get the index of a given tract  \n",
    "    index=(keys[keys.GEOID == tract])[['index']].iloc[0]\n",
    "    #print('-----ISIN------')\n",
    "    #print (keys.iloc[index]['IsIn'])\n",
    "    if (keys.iloc[index]['IsIn'].any() == 0 ):\n",
    "        print('added')\n",
    "        #add tract to the district \n",
    "        dist.append(tract)\n",
    "        #remove dist from adjset \n",
    "        adjSetl[tract] =-1\n",
    "        keys.set_value(index, 13 , 1,takeable=True)\n",
    "        # update pop\n",
    "        pop=pop+(keys[keys.GEOID == tract])[['POP100']].iloc[0]  \n",
    "        #update adj set for new adjacent \n",
    "        adjSetl=updateAdjSet(localAdjSet=adjSetl,index=tract)\n",
    "        # deal with oprhaned districts \n",
    "        orphans=isOrphan(tract=tract)\n",
    "        if (orphans != []):\n",
    "            #deal with new oprhans we are going to create by adding this new tract \n",
    "            #being lazy / greedy and i am just going to add them this might get ~ weird \n",
    "            for val in orphans:\n",
    "                #addTract(adjSetl=adjSetl,tract=val,dist=dist,pop=pop)\n",
    "                afaf=val\n",
    "    else: \n",
    "        print ('trying to add already added')\n",
    "        v=list(adjSetl.values())\n",
    "        k=list(adjSetl.keys())\n",
    "        toDel =k[v.index(max(v))]\n",
    "        del adjSetl[toDel]\n",
    "        \n",
    "    return (adjSetl,dist,pop)\n",
    "\n",
    "def isOrphan (tract):\n",
    "    \n",
    "    return []\n",
    "\n",
    "def updateAdjSet(localAdjSet,index):\n",
    "    toAdd = adjSet[adjSet.SOURCE_TRACTID == index] # adjacent tracts for census tracts key in NEIGHBOR_TRACTID col \n",
    "    for i in range(1,toAdd.shape[0]):#\n",
    "        key = toAdd.iloc[i]['NEIGHBOR_TRACTID']   \n",
    "        if  key in localAdjSet:\n",
    "            if (localAdjSet[key]==-1):\n",
    "                # do nothing this value is alredy been added to the district \n",
    "                b=1\n",
    "            else:\n",
    "                localAdjSet[key]=localAdjSet[key]+1\n",
    "        else:\n",
    "            localAdjSet[key]=1       \n",
    "    return localAdjSet\n",
    "\n",
    "\n"
   ]
  },
  {
   "cell_type": "markdown",
   "metadata": {},
   "source": []
  },
  {
   "cell_type": "code",
   "execution_count": null,
   "metadata": {
    "collapsed": false
   },
   "outputs": [],
   "source": [
    "a={};\n",
    "#get the first District \n",
    "\n",
    "startTractId1 = 50027965400\n",
    "first= [startTractId1]\n",
    "firstStartPop=(keys[keys.GEOID == startTractId1])[['POP100']].iloc[0]\n",
    "locAdjSet1=updateAdjSet(localAdjSet=a,index=startTractId1)\n",
    "first= findDistrict(adjacent=locAdjSet1,tracts=first,pop=firstStartPop,det=0)\n",
    "print(first)"
   ]
  },
  {
   "cell_type": "code",
   "execution_count": null,
   "metadata": {
    "collapsed": false,
    "scrolled": false
   },
   "outputs": [],
   "source": [
    "#begin the recursive fixing \n",
    "#pd.set_option('display.max_rows', 1000)\n",
    "import math as math\n",
    "# now we have the subset for which to work with \n",
    "lo=keys[keys.IsIn == 0 ].GEOID  \n",
    "\n",
    "def fix (tracts,toWrite):\n",
    "    returnFlag=0;\n",
    "    for row in tracts:\n",
    "        toCheck=adjSet[adjSet.SOURCE_TRACTID == row].NEIGHBOR_TRACTID\n",
    "        adjVal=0\n",
    "        n=toCheck.shape\n",
    "        scalar=n[0];\n",
    "        adjacent={}\n",
    "        for elm in toCheck:\n",
    "            if elm in first:\n",
    "                key=1\n",
    "            \n",
    "            # deal with the dictionary values\n",
    "            elif elm in toWrite:\n",
    "                key=toWrite[elm] \n",
    "            else:\n",
    "                key=-1\n",
    "            \n",
    "            if  key in adjacent and key != -1:\n",
    "                adjacent[key]=adjacent[key]+1\n",
    "            elif key != -1:\n",
    "                adjacent[key]=1     \n",
    "        #compute the value and update \n",
    "        # get adjacent with most edge \n",
    "    \n",
    "        v=list(adjacent.values())\n",
    "        k=list(adjacent.keys())\n",
    "        if v == []:\n",
    "            writeme=0\n",
    "        # index of tract with most neighbors\n",
    "        else:\n",
    "            writeme =k[v.index(max(v))]\n",
    "        # now we have the district to put our tract in \n",
    "        if (writeme != 0 ):\n",
    "            toWrite[row]=writeme\n",
    "            # set the tracts to is in in keys. \n",
    "            toUpdate=keys[keys.GEOID == row].index\n",
    "            keys.set_value(toUpdate[0], 13 , 1,takeable=True)\n",
    "        else:\n",
    "            print('island found')\n",
    "            returnFlag=1;\n",
    "    #end of loop ----\n",
    "    toWrite[24023000100]=5\n",
    "    toWrite[24023000200]=5\n",
    "    return toWrite\n",
    "    #fix(lo,toWrite)\n",
    "# end of function \n",
    "\n",
    "\n",
    "toWrite ={}\n",
    "fix(lo,toWrite)\n",
    "print('donezo')"
   ]
  },
  {
   "cell_type": "code",
   "execution_count": null,
   "metadata": {
    "collapsed": false,
    "scrolled": true
   },
   "outputs": [],
   "source": [
    "#generate the CSV File for raw output \n",
    "f = open(\"firstVT.csv\",'w')\n",
    "f.write('GEOID' +','+'color' + '\\n' )\n",
    "for row in first:\n",
    "    f.write( str(row) +','+'1' + '\\n' )\n",
    "f.close()\n"
   ]
  },
  {
   "cell_type": "code",
   "execution_count": null,
   "metadata": {
    "collapsed": false
   },
   "outputs": [],
   "source": [
    "#generate the CSV File for filtered output \n",
    "f = open(\"secondVT.csv\",'w')\n",
    "f.write('GEOID' +','+'color' + '\\n' )\n",
    "for row in first:\n",
    "    f.write( str(row) +','+'1' + '\\n' )\n",
    "for key in toWrite.keys():\n",
    "     f.write( str(key) +','+ str(toWrite[key]) + '\\n' )\n",
    "f.close()"
   ]
  },
  {
   "cell_type": "code",
   "execution_count": null,
   "metadata": {
    "collapsed": false
   },
   "outputs": [],
   "source": [
    "a=1\n",
    "a =a-1\n",
    "print(a)"
   ]
  },
  {
   "cell_type": "code",
   "execution_count": null,
   "metadata": {
    "collapsed": false
   },
   "outputs": [],
   "source": [
    "print (first)"
   ]
  },
  {
   "cell_type": "code",
   "execution_count": null,
   "metadata": {
    "collapsed": false
   },
   "outputs": [],
   "source": [
    "print(len(first))\n",
    "print(len(keyList))\n",
    "print(len(toWrite))"
   ]
  },
  {
   "cell_type": "code",
   "execution_count": null,
   "metadata": {
    "collapsed": false
   },
   "outputs": [],
   "source": [
    "print(keys)"
   ]
  },
  {
   "cell_type": "code",
   "execution_count": null,
   "metadata": {
    "collapsed": true
   },
   "outputs": [],
   "source": []
  }
 ],
 "metadata": {
  "kernelspec": {
   "display_name": "Python 3",
   "language": "python",
   "name": "python3"
  },
  "language_info": {
   "codemirror_mode": {
    "name": "ipython",
    "version": 3
   },
   "file_extension": ".py",
   "mimetype": "text/x-python",
   "name": "python",
   "nbconvert_exporter": "python",
   "pygments_lexer": "ipython3",
   "version": "3.4.3"
  }
 },
 "nbformat": 4,
 "nbformat_minor": 0
}
