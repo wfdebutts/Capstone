{
 "cells": [
  {
   "cell_type": "code",
   "execution_count": 70,
   "metadata": {
    "collapsed": false,
    "scrolled": false
   },
   "outputs": [],
   "source": [
    "#Imports \n",
    "#-----------------------------\n",
    "# bring in the csv's to work with using pandas dataframe \n",
    "#-----------------------------\n",
    "\n",
    "\n",
    "# pandas info http://pandas.pydata.org/\n",
    "\n",
    "\n",
    "import numpy as np\n",
    "import pandas as pd\n",
    "import csv\n",
    "\n",
    "keys= pd.read_csv(\"adjData/popData.csv\")\n",
    "adjList= pd.read_csv(\"adjData/nlist.csv\")\n",
    "isin=pd.read_csv(\"adjData/isin.csv\")\n",
    "extend=pd.read_csv(\"adjData/MDextend.csv\")\n",
    "keyList= keys[['GEOID']]\n",
    "# two step join to get only maryland-maryland census tracts \n",
    "step= pd.merge(adjList,keyList,how='inner',left_on='NEIGHBOR_TRACTID',right_on='GEOID')\n",
    "adjSet= pd.merge(step,keyList,how='inner',left_on='SOURCE_TRACTID',right_on='GEOID')\n",
    "keys=pd.merge(keys,isin,how='inner',left_on='GEOID',right_on='GEOID')\n",
    "keys=pd.merge(keys,extend,how='inner',left_on='GEOID',right_on='GEOID')\n",
    "\n",
    "keys['FamilyProportion'] = keys['FamilyProportion'].convert_objects(convert_numeric=True)\n",
    "keys['BlackPercentage'] = keys['BlackPercentage'].convert_objects(convert_numeric=True)"
   ]
  },
  {
   "cell_type": "code",
   "execution_count": 71,
   "metadata": {
    "collapsed": false,
    "scrolled": false
   },
   "outputs": [],
   "source": [
    "#PRECOMPUTE NEIGHBORS\n",
    "#-----------------------------\n",
    "# precompute number of neighbors so we do not leave any adjacent districts this is to make our lives way easier later \n",
    "#-----------------------------\n",
    "\n",
    "# checked maryland values for no zero values so we can look for orphans right after they are created \n",
    "\n",
    "partners={}\n",
    "for i in range(1,keyList.shape[0]):#\n",
    "    key = keyList.iloc[i]['GEOID']\n",
    "    value = adjSet[adjSet.SOURCE_TRACTID == key] # adjacent tracts for census tracts key in NEIGHBOR_TRACTID col \n",
    "    partners[key] = value.shape[0] \n",
    "   "
   ]
  },
  {
   "cell_type": "code",
   "execution_count": 72,
   "metadata": {
    "collapsed": false,
    "scrolled": true
   },
   "outputs": [],
   "source": [
    "# choose a starting discrict and start working \n",
    "# for test purposes we are going to make 1 district 24029950100\n",
    "# could we precomput the number of districts that are adjcant to a disctric and each time they are added subract one -- much faster and\n",
    "# we can search easily \n",
    "\n",
    "#globals\n",
    "#feasibility constraint so we can make manual changes \n",
    "eps = np.int64(100000)\n",
    "targetPop=np.int64(721694)-eps #721694\n",
    "#function defs\n",
    "def findDistrict(adjacent , tracts, pop, det,params ):\n",
    "    #Check to see if we are done \n",
    "    \n",
    "    if (pop+det >= targetPop).all():\n",
    "        print ('-----Params----')\n",
    "        print(params)\n",
    "        print ('---------------')\n",
    "        return tracts\n",
    "    # choose next district based on selection method\n",
    "    \n",
    "    # get the tract in the adjacent set with highest value to be added  \n",
    "    v=list(adjacent.values())\n",
    "    k=list(adjacent.keys())\n",
    "    # index of tract with most neighbors\n",
    "    toAdd =k[v.index(max(v))].item()\n",
    "    \n",
    "    # once selection is made addtract will handle all of the set updates \n",
    "    adjacent,tracts,pop,params = addTract(adjSetl=adjacent,tract=toAdd,dist=tracts,pop=pop,params=params)\n",
    "    # recursice call\n",
    "    if  (len ( adjacent ) == 0 ):\n",
    "        print ('-----Params In Error----')\n",
    "        print(params)\n",
    "        print ('------------------------')    \n",
    "        return tracts\n",
    "    #print (tracts)\n",
    "    return findDistrict(adjacent,tracts,pop,det,params)\n",
    "\n",
    "def addTract (adjSetl,tract,dist,pop,params):\n",
    "    # we need to get the index of a given tract  \n",
    "    index=(keys[keys.GEOID == tract])[['index']].iloc[0]\n",
    "    if (keys.iloc[index]['IsIn'].any() == 0 ):\n",
    "        #add tract to the district \n",
    "        dist.append(tract)\n",
    "        #remove dist from adjset \n",
    "        adjSetl[tract] =-1\n",
    "        keys.set_value(index, 13 , 1,takeable=True)\n",
    "        # update pop\n",
    "        pop=pop+(keys[keys.GEOID == tract])[['POP100']].iloc[0]  \n",
    "        #update params \n",
    "        params=updateParams(tract,params)\n",
    "        #update adj set for new adjacent \n",
    "        adjSetl=updateAdjSet(localAdjSet=adjSetl,index=tract,params=params)\n",
    "        # deal with oprhaned districts \n",
    "        orphans=isOrphan(tract=tract)\n",
    "        if (orphans != []):\n",
    "            #deal with new oprhans we are going to create by adding this new tract \n",
    "            #being lazy / greedy and i am just going to add them this might get ~ weird \n",
    "            for val in orphans:\n",
    "                #addTract(adjSetl=adjSetl,tract=val,dist=dist,pop=pop)\n",
    "                afaf=val\n",
    "    else: \n",
    "        #print ('trying to add already added')\n",
    "        v=list(adjSetl.values())\n",
    "        k=list(adjSetl.keys())\n",
    "        toDel =k[v.index(max(v))]\n",
    "        del adjSetl[toDel]\n",
    "        \n",
    "    return (adjSetl,dist,pop,params)\n",
    "\n",
    "def isOrphan (tract):\n",
    "    global partners \n",
    "    orphans=[]\n",
    "    toRemove = adjSet[adjSet.SOURCE_TRACTID == tract] # adjacent tracts for census tracts key in NEIGHBOR_TRACTID col \n",
    "    for i in range(1,toRemove.shape[0]):\n",
    "        key = toRemove.iloc[i]['NEIGHBOR_TRACTID']\n",
    "        value=partners[key]\n",
    "        if (value == 1): \n",
    "            orphans.append(key)\n",
    "        partners[key]=value-1\n",
    "    return orphans\n",
    "\n",
    "def updateAdjSet(localAdjSet,index,params):\n",
    "    # this is the code that is being rewrtitten to acomodate the function specified in our paper :)\n",
    "    toAdd = adjSet[adjSet.SOURCE_TRACTID == index] # adjacent tracts for census tracts key in NEIGHBOR_TRACTID col\n",
    "    for i in range(0,toAdd.shape[0]):#\n",
    "        key = toAdd.iloc[i]['NEIGHBOR_TRACTID']  \n",
    "        if  key in localAdjSet:\n",
    "            if (localAdjSet[key]==-1):\n",
    "                # do nothing this value is alredy been added to the district \n",
    "                b=1\n",
    "            else:\n",
    "                localAdjSet[key]=calcValue(key,params)\n",
    "               \n",
    "        else:\n",
    "            localAdjSet[key]=calcValue(key,params)\n",
    "    return localAdjSet\n",
    "#calcValue \n",
    "#     toAdd  -- geoID of the tract we are calculating value of\n",
    "#     params -- vector of data needed to preform the calculation from the adjset\n",
    "#          params[0] -- average age of the district \n",
    "#          params[1] -- std deviation of age\n",
    "#          params[2] -- mean Family Proportion\n",
    "#          params[3] -- std deviation of Family Proportion\n",
    "#          params[4] -- average %black\n",
    "#          params[5] -- std dev of %black\n",
    "#          params[6] -- number of tracts in dist \n",
    "#\n",
    "#  the function is of the form Value = 17*(age_diff/sigma) + 5*(household_diff/sigma)^2 + 1*(race_diff/sigma)\n",
    "def calcValue(toAdd,params):\n",
    "    age   = keys[keys.GEOID == toAdd]['Medianage']\n",
    "    house = keys[keys.GEOID == toAdd]['FamilyProportion']\n",
    "    race  = keys[keys.GEOID == toAdd]['BlackPercentage']\n",
    "    val=abs(17*(age.iloc[0]-params[0])/params[1])+abs(5*(house.iloc[0]-params[2])/params[3])+abs((age.iloc[0]-params[4]) /params[5])\n",
    "    return val\n",
    "\n",
    "def updateParams(toAdd,params):\n",
    "    age   = keys[keys.GEOID == toAdd]['Medianage']\n",
    "    house = keys[keys.GEOID == toAdd]['FamilyProportion']\n",
    "    race  = keys[keys.GEOID == toAdd]['BlackPercentage']\n",
    "    #when were here we might as well update the params since they will only be used here\n",
    "    # update the averages \n",
    "    x1barold=params[0]\n",
    "    x2barold=params[2]\n",
    "    x3barold=params[4]\n",
    "    params[0]=(params[0]*params[6]+age.iloc[0])/(params[6]+1)\n",
    "    params[2]=(params[2]*params[6]+house.iloc[0])/(params[6]+1)\n",
    "    params[4]=(params[4]*params[6]+race.iloc[0])/(params[6]+1)\n",
    "    params[6]=params[6]+1\n",
    "    if  params[6] == 1:\n",
    "        params[1]=.10\n",
    "        params[3]=.10\n",
    "        params[5]=.10\n",
    "        print('started')\n",
    "    else:\n",
    "        n=params[6]\n",
    "        #update the std devs \n",
    "        # linkerino for the matherino http://bit.ly/1YI3W4R\n",
    "        params[1]=pow(abs(((n-2)*pow(params[1],2)+(age.iloc[0]-params[0])*(age.iloc[0]-x1barold))/(n-1)),.5)\n",
    "        params[3]=pow(abs(((n-2)*pow(params[3],2)+(house.iloc[0]-params[3])*(house.iloc[0]-x2barold))/(n-1)),.5)\n",
    "        params[5]=pow(abs(((n-2)*pow(params[3],2)+(race.iloc[0]-params[3])*(race.iloc[0]-x3barold))/(n-1)),.5)\n",
    "    return params\n",
    "    "
   ]
  },
  {
   "cell_type": "code",
   "execution_count": 73,
   "metadata": {
    "collapsed": false
   },
   "outputs": [
    {
     "name": "stdout",
     "output_type": "stream",
     "text": [
      "0    452.905863\n",
      "dtype: float64\n"
     ]
    }
   ],
   "source": [
    "params=[0,0,0,0,0,0,0]\n",
    "localAdjSet={}\n",
    "age   = keys[keys.GEOID == 24001000100]['Medianage']\n",
    "house = keys[keys.GEOID == 24001000100]['FamilyProportion']\n",
    "race  = keys[keys.GEOID == 24001000100]['BlackPercentage']\n",
    "    #when were here we might as well update the params since they will only be used here\n",
    "    # update the averages \n",
    "x1barold=params[0]\n",
    "x2barold=params[2]\n",
    "x3barold=params[4]\n",
    "\n",
    "params[0]=(params[0]*params[6]+age) / ( params[6]+1)\n",
    "params[2]=(params[2]*params[6]+house)/ ( params[6]+1)\n",
    "params[4]=(params[4]*params[6]+race)/ ( params[6]+1)\n",
    "params[1]=.1\n",
    "params[3]=.1\n",
    "params[5]=.1\n",
    "params[6]=params[6]+1\n",
    "toAdd = adjSet[adjSet.SOURCE_TRACTID == 24001000100] # adjacent tracts for census tracts key in NEIGHBOR_TRACTID col\n",
    "val=abs(17*(age.iloc[0]-params[0])/params[1])+abs(5*(house.iloc[0]-params[2])/params[3])+abs((age.iloc[0]-params[4]) /params[5])\n",
    "print(val)"
   ]
  },
  {
   "cell_type": "code",
   "execution_count": 74,
   "metadata": {
    "collapsed": false
   },
   "outputs": [
    {
     "name": "stdout",
     "output_type": "stream",
     "text": [
      "started\n",
      "[45.299999999999997, 0.1, 0.71240971799999997, 0.1, 0.0094136630000000009, 0.1, 1]\n",
      "-----Params----\n",
      "[44.331645569620264, 5.4383058504703881, 0.70486530003797465, 0.17586997478487101, 0.062993004797468291, 0.17526197293586981, 158]\n",
      "---------------\n"
     ]
    }
   ],
   "source": [
    "#5\n",
    "\n",
    "\n",
    "startTractId5=24001000100\n",
    "#24001000100\n",
    "e={}\n",
    "p=updateParams(24001000100,[0,0,0,0,0,0,0])\n",
    "print(p)\n",
    "fith= [startTractId5]\n",
    "fithStartPop=(keys[keys.GEOID == startTractId5])[['POP100']].iloc[0]\n",
    "locAdjSet5=updateAdjSet(localAdjSet=e,index=startTractId5,params=p)\n",
    "fith=findDistrict(adjacent=locAdjSet5,tracts=fith,pop=fithStartPop,det=0,params=p)\n",
    "\n"
   ]
  },
  {
   "cell_type": "code",
   "execution_count": 75,
   "metadata": {
    "collapsed": false
   },
   "outputs": [
    {
     "name": "stdout",
     "output_type": "stream",
     "text": [
      "1\n"
     ]
    }
   ],
   "source": [
    "p=[0,1,0,0,0,0]\n",
    "print(p[1])"
   ]
  },
  {
   "cell_type": "code",
   "execution_count": 76,
   "metadata": {
    "collapsed": false
   },
   "outputs": [
    {
     "name": "stdout",
     "output_type": "stream",
     "text": [
      "[24001000100, 24001000200, 24043010700, 24001000100, 24043010600, 24001000300, 24001001502, 24001000400, 24001001000, 24001001401, 24001001100, 24001001200, 24001001402, 24001000800, 24001000600, 24001000700, 24001000500, 24001001300, 24001001900, 24001002000, 24001002200, 24001001700, 24001001600, 24001001503, 24023000300, 24023000500, 24023000600, 24043010500, 24001002100, 24023000200, 24023000400, 24043010801, 24043010802, 24023000100, 24043000301, 24043010300, 24043010200, 24043010900, 24043000602, 24043000200, 24043000400, 24043011400, 24021770700, 24021751203, 24021752602, 24021751301, 24043011302, 24021751302, 24021750802, 24021767500, 24043011000, 24043010400, 24043011500, 24043000800, 24023000700, 24001001800, 24043000100, 24021752601, 24043000601, 24021751701, 24021752801, 24043010100, 24021751201, 24013501002, 24043000302, 24021750506, 24021750801, 24043001002, 24021751702, 24013509002, 24013503000, 24021753001, 24043011202, 24013514201, 24021752802, 24021751600, 24021740200, 24043000700, 24013502000, 24013507703, 24043011600, 24021751802, 24021752501, 24021772200, 24013509001, 24013507702, 24013507802, 24013504201, 24005404800, 24005404600, 24005408200, 24005408304, 24005408400, 24005408302, 24005403801, 24005403802, 24005403803, 24005490400, 24005490500, 24005490701, 24005403701, 24005403401, 24005408702, 24005408703, 24005404900, 24005405000, 24005407001, 24005410100, 24005408502, 24005411202, 24005490100, 24005411201, 24005411101, 24005411102, 24005408601, 24025301201, 24005410200, 24005408900, 24005408602, 24005403402, 24005408303, 24005407002, 24005408704, 24005411406, 24025304201, 24025304101, 24025303501, 24027604002, 24021750600, 24021752502, 24021766800, 24013504100, 24013504202, 24005490603, 24013508101, 24021752603, 24005490703, 24025303300, 24005404402, 24013510000, 24021751903, 24027603003, 24005411303, 24025303400, 24025303602, 24025303801, 24005411404, 24005491900, 24005411407, 24005403201, 24005403100, 24005490200, 24005408100, 24013506101, 24027603004, 24027605104, 24027605103, 24031701316]\n"
     ]
    }
   ],
   "source": [
    "print (fith)"
   ]
  },
  {
   "cell_type": "code",
   "execution_count": 77,
   "metadata": {
    "collapsed": false
   },
   "outputs": [
    {
     "name": "stdout",
     "output_type": "stream",
     "text": [
      "started\n",
      "-----Params----\n",
      "[43.581379310344829, 7.0817840090585857, 0.71781046305517204, 0.19657233447064679, 0.10470991342758627, 0.19610505093156799, 145]\n",
      "---------------\n",
      "started\n",
      "-----Params----\n",
      "[40.64050000000001, 7.744669734500139, 0.61905683887999963, 0.13695202471689585, 0.25105753154499999, 0.13700044917077769, 200]\n",
      "---------------\n",
      "started\n",
      "-----Params----\n",
      "[37.499999999999957, 5.7766655489880074, 0.68614972497986548, 0.18138800745285269, 0.44520770673154331, 0.18315962585362822, 149]\n",
      "---------------\n",
      "started\n",
      "-----Params----\n",
      "[35.979310344827582, 4.557364256400545, 0.70487831098620712, 0.097846003727676586, 0.63377009172413779, 0.10466165293512222, 145]\n",
      "---------------\n",
      "started\n",
      "-----Params----\n",
      "[38.998265895953764, 4.8840327645468706, 0.62347833434682032, 0.22145259426729613, 0.42631020235838146, 0.22619188743882634, 173]\n",
      "---------------\n",
      "started\n",
      "-----Params In Error----\n",
      "[35.091891891891891, 3.8499146421502237, 0.66017382380180201, 0.08762009694027395, 0.41055046789189209, 0.085838947401784049, 111]\n",
      "------------------------\n",
      "started\n",
      "-----Params In Error----\n",
      "[38.588636363636368, 5.2288651402948929, 0.6784710943636364, 0.13057072576514761, 0.1792503102272727, 0.16548189233626892, 44]\n",
      "------------------------\n"
     ]
    }
   ],
   "source": [
    "    a={};\n",
    "    #get the first District \n",
    "\n",
    "    startTractId1 = 24021750100\n",
    "    p=updateParams(startTractId1,[0,0,0,0,0,0,0])\n",
    "    first= [startTractId1]\n",
    "    firstStartPop=(keys[keys.GEOID == startTractId1])[['POP100']].iloc[0]\n",
    "    locAdjSet1=updateAdjSet(localAdjSet=a,index=startTractId1,params=p)\n",
    "    first= findDistrict(adjacent=locAdjSet1,tracts=first,pop=firstStartPop,det=0,params=p)\n",
    "\n",
    "    # now the second \n",
    "    foo={}\n",
    "    startTractId2 = 24047990000\n",
    "    p=updateParams(startTractId2,[0,0,0,0,0,0,0])\n",
    "    second= [startTractId2]\n",
    "    secondStartPop=(keys[keys.GEOID == startTractId2])[['POP100']].iloc[0]\n",
    "    locAdjSet2=updateAdjSet(localAdjSet=foo,index=startTractId2,params=p)\n",
    "    second = findDistrict(adjacent=locAdjSet2,tracts=second,pop=secondStartPop,det=0,params=p)\n",
    "\n",
    "    # 3 \n",
    "    c={}\n",
    "    startTractId3 = 24033805909\n",
    "    p=updateParams(startTractId3,[0,0,0,0,0,0,0])\n",
    "    third= [startTractId3]\n",
    "    thirdStartPop=(keys[keys.GEOID == startTractId3])[['POP100']].iloc[0]\n",
    "    locAdjSet3=updateAdjSet(localAdjSet=c,index=startTractId3,params=p)\n",
    "    thrid = findDistrict(adjacent=locAdjSet3,tracts=third,pop=thirdStartPop,det=0,params=p)\n",
    "\n",
    "    # 4\n",
    "    startTractId4=24033803509\n",
    "    d={}\n",
    "    p=updateParams(startTractId4,[0,0,0,0,0,0,0])\n",
    "    fourth= [startTractId4]\n",
    "    fourthStartPop=(keys[keys.GEOID == startTractId4])[['POP100']].iloc[0]\n",
    "    locAdjSet4=updateAdjSet(localAdjSet=d,index=startTractId4,params=p)\n",
    "    fourth = findDistrict(adjacent=locAdjSet4,tracts=fourth,pop=fourthStartPop,det=0,params=p)\n",
    "\n",
    "    #6 \n",
    "    startTractId6=24510100100\n",
    "    f={}\n",
    "    p=updateParams(startTractId6,[0,0,0,0,0,0,0])\n",
    "    sixth= [startTractId6]\n",
    "    sixthStartPop=(keys[keys.GEOID == startTractId6])[['POP100']].iloc[0]\n",
    "    locAdjSet6=updateAdjSet(localAdjSet=f,index=startTractId6,params=p)\n",
    "    sixth= findDistrict(adjacent=locAdjSet6,tracts=sixth,pop=sixthStartPop,det=0,params=p)\n",
    "    #7\n",
    "    startTractId7=24027605505\n",
    "    g={}\n",
    "    p=updateParams(startTractId7,[0,0,0,0,0,0,0])\n",
    "    sev= [startTractId7]\n",
    "    sevStartPop=(keys[keys.GEOID == startTractId7])[['POP100']].iloc[0]\n",
    "    locAdjSet7=updateAdjSet(localAdjSet=g,index=startTractId7,params=p)\n",
    "    sev = findDistrict(adjacent=locAdjSet7,tracts=sev,pop=fithStartPop,det=0,params=p)\n",
    "\n",
    "    #8\n",
    "    startTractId8=24019970100\n",
    "    h={}\n",
    "    p=updateParams(startTractId8,[0,0,0,0,0,0,0])\n",
    "    eight= [startTractId8]\n",
    "    eightStartPop=(keys[keys.GEOID == startTractId8])[['POP100']].iloc[0]\n",
    "    locAdjSet8=updateAdjSet(localAdjSet=h,index=startTractId8,params=p)\n",
    "    eight = findDistrict(adjacent=locAdjSet8,tracts=eight,pop=eightStartPop,det=0,params=p)\n",
    "\n",
    "\n",
    "\n"
   ]
  },
  {
   "cell_type": "markdown",
   "metadata": {},
   "source": []
  },
  {
   "cell_type": "code",
   "execution_count": 78,
   "metadata": {
    "collapsed": false,
    "scrolled": true
   },
   "outputs": [],
   "source": [
    "#generate the CSV File for raw output \n",
    "f = open(\"mdComplexRaw.csv\",'w')\n",
    "f.write('GEOID' +','+'color' + '\\n' )\n",
    "for row in fith:\n",
    "    f.write( str(row) +','+'5' + '\\n' )\n",
    "for row in first:\n",
    "    f.write( str(row) +','+'1' + '\\n' )\n",
    "for row in second:\n",
    "    f.write( str(row) +','+'2' + '\\n' )\n",
    "for row in thrid:\n",
    "    f.write( str(row) +','+'3' + '\\n' )\n",
    "for row in fourth:\n",
    "    f.write( str(row) +','+'4' + '\\n' )\n",
    "for row in sixth:\n",
    "    f.write( str(row) +','+'6' + '\\n' )\n",
    "for row in sev:\n",
    "    f.write( str(row) +','+'7' + '\\n' )\n",
    "for row in eight:\n",
    "    f.write( str(row) +','+'8' + '\\n' )\n",
    "f.close()\n"
   ]
  },
  {
   "cell_type": "code",
   "execution_count": 79,
   "metadata": {
    "collapsed": false,
    "scrolled": false
   },
   "outputs": [
    {
     "name": "stdout",
     "output_type": "stream",
     "text": [
      "island found\n",
      "island found\n",
      "island found\n",
      "island found\n",
      "island found\n",
      "island found\n",
      "island found\n",
      "island found\n",
      "island found\n",
      "island found\n",
      "island found\n",
      "island found\n",
      "island found\n",
      "island found\n",
      "island found\n",
      "island found\n",
      "island found\n",
      "island found\n",
      "island found\n",
      "island found\n",
      "island found\n",
      "island found\n",
      "island found\n",
      "island found\n",
      "island found\n",
      "island found\n",
      "island found\n",
      "island found\n",
      "island found\n",
      "island found\n",
      "island found\n",
      "island found\n",
      "donezo\n"
     ]
    }
   ],
   "source": [
    "#begin the recursive fixing \n",
    "#pd.set_option('display.max_rows', 1000)\n",
    "import math as math\n",
    "# now we have the subset for which to work with \n",
    "lo=keys[keys.IsIn == 0 ].GEOID  \n",
    "\n",
    "def fix (tracts,toWrite):\n",
    "    returnFlag=0;\n",
    "    for row in tracts:\n",
    "        toCheck=adjSet[adjSet.SOURCE_TRACTID == row].NEIGHBOR_TRACTID\n",
    "        adjVal=0\n",
    "        n=toCheck.shape\n",
    "        scalar=n[0];\n",
    "        adjacent={}\n",
    "        for elm in toCheck:\n",
    "            if elm in first:\n",
    "                key=1\n",
    "            elif elm in second:\n",
    "                key=2\n",
    "            elif elm in thrid:\n",
    "                key=3\n",
    "            elif elm in fourth:\n",
    "                key=4\n",
    "            elif elm in fith:\n",
    "                key=5\n",
    "            elif elm in fourth:\n",
    "                key=6\n",
    "            elif elm in sev:\n",
    "                key=7\n",
    "            elif elm in eight:\n",
    "                key=8\n",
    "            # deal with the dictionary values\n",
    "            elif elm in toWrite:\n",
    "                key=toWrite[elm] \n",
    "            else:\n",
    "                key=-1\n",
    "            \n",
    "            if  key in adjacent and key != -1:\n",
    "                adjacent[key]=adjacent[key]+1\n",
    "            elif key != -1:\n",
    "                adjacent[key]=1     \n",
    "        #compute the value and update \n",
    "        # get adjacent with most edge \n",
    "    \n",
    "        v=list(adjacent.values())\n",
    "        k=list(adjacent.keys())\n",
    "        if v == []:\n",
    "            writeme=0\n",
    "        # index of tract with most neighbors\n",
    "        else:\n",
    "            writeme =k[v.index(max(v))]\n",
    "        # now we have the district to put our tract in \n",
    "        if (writeme != 0 ):\n",
    "            toWrite[row]=writeme\n",
    "            # set the tracts to is in in keys. \n",
    "            toUpdate=keys[keys.GEOID == row].index\n",
    "            keys.set_value(toUpdate[0], 13 , 1,takeable=True)\n",
    "        else:\n",
    "            print('island found')\n",
    "            returnFlag=1;\n",
    "    #end of loop ----\n",
    "    toWrite[24023000100]=5\n",
    "    toWrite[24023000200]=5\n",
    "    return toWrite\n",
    "    #fix(lo,toWrite)\n",
    "# end of function \n",
    "\n",
    "\n",
    "toWrite ={}\n",
    "fix(lo,toWrite)\n",
    "print('donezo')"
   ]
  },
  {
   "cell_type": "code",
   "execution_count": 80,
   "metadata": {
    "collapsed": false
   },
   "outputs": [
    {
     "name": "stdout",
     "output_type": "stream",
     "text": [
      "island found\n",
      "island found\n",
      "island found\n",
      "island found\n",
      "island found\n",
      "island found\n",
      "island found\n",
      "island found\n",
      "island found\n",
      "island found\n",
      "island found\n",
      "island found\n",
      "island found\n",
      "island found\n",
      "donezo\n"
     ]
    }
   ],
   "source": [
    "# take a second pass for this one \n",
    "lo=keys[keys.IsIn == 0 ].GEOID \n",
    "fix(lo,toWrite)\n",
    "print('donezo')"
   ]
  },
  {
   "cell_type": "code",
   "execution_count": 83,
   "metadata": {
    "collapsed": false
   },
   "outputs": [
    {
     "name": "stdout",
     "output_type": "stream",
     "text": [
      "24005491401\n",
      "24015031302\n",
      "24025301302\n",
      "24025302802\n",
      "24510120400\n",
      "24510130200\n",
      "24510151300\n",
      "24510270701\n",
      "24510270801\n",
      "24510270802\n",
      "24510270902\n",
      "24510270903\n",
      "24510271001\n",
      "24510271102\n"
     ]
    }
   ],
   "source": [
    "lo=keys[keys.IsIn == 0 ].GEOID\n",
    "for row in lo: \n",
    "    print(row)\n",
    "    toWrite[row]=6"
   ]
  },
  {
   "cell_type": "code",
   "execution_count": 84,
   "metadata": {
    "collapsed": false
   },
   "outputs": [],
   "source": [
    "#generate the CSV File for filtered output \n",
    "f = open(\"mdComplexMod.csv\",'w')\n",
    "f.write('GEOID' +','+'color' + '\\n' )\n",
    "for row in fith:\n",
    "    f.write( str(row) +','+'5' + '\\n' )\n",
    "for row in first:\n",
    "    f.write( str(row) +','+'1' + '\\n' )\n",
    "for row in second:\n",
    "    f.write( str(row) +','+'2' + '\\n' )\n",
    "for row in thrid:\n",
    "    f.write( str(row) +','+'3' + '\\n' )\n",
    "for row in fourth:\n",
    "    f.write( str(row) +','+'4' + '\\n' )\n",
    "for row in sixth:\n",
    "    f.write( str(row) +','+'6' + '\\n' )\n",
    "for row in sev:\n",
    "    f.write( str(row) +','+'7' + '\\n' )\n",
    "for row in eight:\n",
    "    f.write( str(row) +','+'8' + '\\n' )\n",
    "for key in toWrite.keys():\n",
    "     f.write( str(key) +','+ str(toWrite[key]) + '\\n' )\n",
    "f.close()"
   ]
  },
  {
   "cell_type": "code",
   "execution_count": null,
   "metadata": {
    "collapsed": false
   },
   "outputs": [],
   "source": []
  },
  {
   "cell_type": "code",
   "execution_count": null,
   "metadata": {
    "collapsed": true
   },
   "outputs": [],
   "source": []
  }
 ],
 "metadata": {
  "kernelspec": {
   "display_name": "Python 3",
   "language": "python",
   "name": "python3"
  },
  "language_info": {
   "codemirror_mode": {
    "name": "ipython",
    "version": 3
   },
   "file_extension": ".py",
   "mimetype": "text/x-python",
   "name": "python",
   "nbconvert_exporter": "python",
   "pygments_lexer": "ipython3",
   "version": "3.4.3"
  }
 },
 "nbformat": 4,
 "nbformat_minor": 0
}
